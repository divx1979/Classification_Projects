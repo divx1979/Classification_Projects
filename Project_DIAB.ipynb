{
 "cells": [
  {
   "cell_type": "code",
   "execution_count": 1,
   "id": "bc7bb037",
   "metadata": {},
   "outputs": [],
   "source": [
    "import numpy as np\n",
    "import pandas as pd\n",
    "import matplotlib.pyplot as plt\n",
    "from pandas.plotting import scatter_matrix\n",
    "from sklearn.preprocessing import StandardScaler\n",
    "from sklearn.model_selection import train_test_split\n",
    "from sklearn.model_selection import KFold\n",
    "from sklearn.model_selection import cross_val_score\n",
    "from sklearn.model_selection import GridSearchCV\n",
    "from sklearn.metrics import classification_report\n",
    "from sklearn.metrics import accuracy_score\n",
    "from sklearn.metrics import confusion_matrix\n",
    "from sklearn.linear_model import LogisticRegression\n",
    "from sklearn.discriminant_analysis import LinearDiscriminantAnalysis\n",
    "from sklearn.naive_bayes import GaussianNB\n",
    "from sklearn.neighbors import KNeighborsClassifier\n",
    "from sklearn.svm import SVC\n",
    "from sklearn.ensemble import AdaBoostClassifier\n",
    "from sklearn.ensemble import GradientBoostingClassifier\n",
    "from sklearn.ensemble import RandomForestClassifier\n",
    "from sklearn.ensemble import ExtraTreesClassifier\n",
    "from sklearn.tree import DecisionTreeClassifier\n",
    "from sklearn.pipeline import Pipeline"
   ]
  },
  {
   "cell_type": "code",
   "execution_count": 2,
   "id": "a8e06241",
   "metadata": {},
   "outputs": [],
   "source": [
    "da1 = pd.read_csv(\"/Users/divyeshbhatt/Downloads/Datas/Classification/Diabetes/diabetes 11.04.25 AM.csv\")"
   ]
  },
  {
   "cell_type": "code",
   "execution_count": 3,
   "id": "8d27f81c",
   "metadata": {},
   "outputs": [
    {
     "data": {
      "text/html": [
       "<div>\n",
       "<style scoped>\n",
       "    .dataframe tbody tr th:only-of-type {\n",
       "        vertical-align: middle;\n",
       "    }\n",
       "\n",
       "    .dataframe tbody tr th {\n",
       "        vertical-align: top;\n",
       "    }\n",
       "\n",
       "    .dataframe thead th {\n",
       "        text-align: right;\n",
       "    }\n",
       "</style>\n",
       "<table border=\"1\" class=\"dataframe\">\n",
       "  <thead>\n",
       "    <tr style=\"text-align: right;\">\n",
       "      <th></th>\n",
       "      <th>Pregnancies</th>\n",
       "      <th>Glucose</th>\n",
       "      <th>BloodPressure</th>\n",
       "      <th>SkinThickness</th>\n",
       "      <th>Insulin</th>\n",
       "      <th>BMI</th>\n",
       "      <th>DiabetesPedigreeFunction</th>\n",
       "      <th>Age</th>\n",
       "      <th>Outcome</th>\n",
       "    </tr>\n",
       "  </thead>\n",
       "  <tbody>\n",
       "    <tr>\n",
       "      <th>0</th>\n",
       "      <td>6</td>\n",
       "      <td>148</td>\n",
       "      <td>72</td>\n",
       "      <td>35</td>\n",
       "      <td>0</td>\n",
       "      <td>33.6</td>\n",
       "      <td>0.627</td>\n",
       "      <td>50</td>\n",
       "      <td>1</td>\n",
       "    </tr>\n",
       "    <tr>\n",
       "      <th>1</th>\n",
       "      <td>1</td>\n",
       "      <td>85</td>\n",
       "      <td>66</td>\n",
       "      <td>29</td>\n",
       "      <td>0</td>\n",
       "      <td>26.6</td>\n",
       "      <td>0.351</td>\n",
       "      <td>31</td>\n",
       "      <td>0</td>\n",
       "    </tr>\n",
       "    <tr>\n",
       "      <th>2</th>\n",
       "      <td>8</td>\n",
       "      <td>183</td>\n",
       "      <td>64</td>\n",
       "      <td>0</td>\n",
       "      <td>0</td>\n",
       "      <td>23.3</td>\n",
       "      <td>0.672</td>\n",
       "      <td>32</td>\n",
       "      <td>1</td>\n",
       "    </tr>\n",
       "    <tr>\n",
       "      <th>3</th>\n",
       "      <td>1</td>\n",
       "      <td>89</td>\n",
       "      <td>66</td>\n",
       "      <td>23</td>\n",
       "      <td>94</td>\n",
       "      <td>28.1</td>\n",
       "      <td>0.167</td>\n",
       "      <td>21</td>\n",
       "      <td>0</td>\n",
       "    </tr>\n",
       "    <tr>\n",
       "      <th>4</th>\n",
       "      <td>0</td>\n",
       "      <td>137</td>\n",
       "      <td>40</td>\n",
       "      <td>35</td>\n",
       "      <td>168</td>\n",
       "      <td>43.1</td>\n",
       "      <td>2.288</td>\n",
       "      <td>33</td>\n",
       "      <td>1</td>\n",
       "    </tr>\n",
       "  </tbody>\n",
       "</table>\n",
       "</div>"
      ],
      "text/plain": [
       "   Pregnancies  Glucose  BloodPressure  SkinThickness  Insulin   BMI  \\\n",
       "0            6      148             72             35        0  33.6   \n",
       "1            1       85             66             29        0  26.6   \n",
       "2            8      183             64              0        0  23.3   \n",
       "3            1       89             66             23       94  28.1   \n",
       "4            0      137             40             35      168  43.1   \n",
       "\n",
       "   DiabetesPedigreeFunction  Age  Outcome  \n",
       "0                     0.627   50        1  \n",
       "1                     0.351   31        0  \n",
       "2                     0.672   32        1  \n",
       "3                     0.167   21        0  \n",
       "4                     2.288   33        1  "
      ]
     },
     "execution_count": 3,
     "metadata": {},
     "output_type": "execute_result"
    }
   ],
   "source": [
    "da1.head()"
   ]
  },
  {
   "cell_type": "code",
   "execution_count": 4,
   "id": "4f4ed31b",
   "metadata": {},
   "outputs": [
    {
     "data": {
      "text/html": [
       "<div>\n",
       "<style scoped>\n",
       "    .dataframe tbody tr th:only-of-type {\n",
       "        vertical-align: middle;\n",
       "    }\n",
       "\n",
       "    .dataframe tbody tr th {\n",
       "        vertical-align: top;\n",
       "    }\n",
       "\n",
       "    .dataframe thead th {\n",
       "        text-align: right;\n",
       "    }\n",
       "</style>\n",
       "<table border=\"1\" class=\"dataframe\">\n",
       "  <thead>\n",
       "    <tr style=\"text-align: right;\">\n",
       "      <th></th>\n",
       "      <th>Pregnancies</th>\n",
       "      <th>Glucose</th>\n",
       "      <th>BloodPressure</th>\n",
       "      <th>SkinThickness</th>\n",
       "      <th>Insulin</th>\n",
       "      <th>BMI</th>\n",
       "      <th>DiabetesPedigreeFunction</th>\n",
       "      <th>Age</th>\n",
       "      <th>Outcome</th>\n",
       "    </tr>\n",
       "  </thead>\n",
       "  <tbody>\n",
       "    <tr>\n",
       "      <th>count</th>\n",
       "      <td>768.000000</td>\n",
       "      <td>768.000000</td>\n",
       "      <td>768.000000</td>\n",
       "      <td>768.000000</td>\n",
       "      <td>768.000000</td>\n",
       "      <td>768.000000</td>\n",
       "      <td>768.000000</td>\n",
       "      <td>768.000000</td>\n",
       "      <td>768.000000</td>\n",
       "    </tr>\n",
       "    <tr>\n",
       "      <th>mean</th>\n",
       "      <td>3.845052</td>\n",
       "      <td>120.894531</td>\n",
       "      <td>69.105469</td>\n",
       "      <td>20.536458</td>\n",
       "      <td>79.799479</td>\n",
       "      <td>31.992578</td>\n",
       "      <td>0.471876</td>\n",
       "      <td>33.240885</td>\n",
       "      <td>0.348958</td>\n",
       "    </tr>\n",
       "    <tr>\n",
       "      <th>std</th>\n",
       "      <td>3.369578</td>\n",
       "      <td>31.972618</td>\n",
       "      <td>19.355807</td>\n",
       "      <td>15.952218</td>\n",
       "      <td>115.244002</td>\n",
       "      <td>7.884160</td>\n",
       "      <td>0.331329</td>\n",
       "      <td>11.760232</td>\n",
       "      <td>0.476951</td>\n",
       "    </tr>\n",
       "    <tr>\n",
       "      <th>min</th>\n",
       "      <td>0.000000</td>\n",
       "      <td>0.000000</td>\n",
       "      <td>0.000000</td>\n",
       "      <td>0.000000</td>\n",
       "      <td>0.000000</td>\n",
       "      <td>0.000000</td>\n",
       "      <td>0.078000</td>\n",
       "      <td>21.000000</td>\n",
       "      <td>0.000000</td>\n",
       "    </tr>\n",
       "    <tr>\n",
       "      <th>25%</th>\n",
       "      <td>1.000000</td>\n",
       "      <td>99.000000</td>\n",
       "      <td>62.000000</td>\n",
       "      <td>0.000000</td>\n",
       "      <td>0.000000</td>\n",
       "      <td>27.300000</td>\n",
       "      <td>0.243750</td>\n",
       "      <td>24.000000</td>\n",
       "      <td>0.000000</td>\n",
       "    </tr>\n",
       "    <tr>\n",
       "      <th>50%</th>\n",
       "      <td>3.000000</td>\n",
       "      <td>117.000000</td>\n",
       "      <td>72.000000</td>\n",
       "      <td>23.000000</td>\n",
       "      <td>30.500000</td>\n",
       "      <td>32.000000</td>\n",
       "      <td>0.372500</td>\n",
       "      <td>29.000000</td>\n",
       "      <td>0.000000</td>\n",
       "    </tr>\n",
       "    <tr>\n",
       "      <th>75%</th>\n",
       "      <td>6.000000</td>\n",
       "      <td>140.250000</td>\n",
       "      <td>80.000000</td>\n",
       "      <td>32.000000</td>\n",
       "      <td>127.250000</td>\n",
       "      <td>36.600000</td>\n",
       "      <td>0.626250</td>\n",
       "      <td>41.000000</td>\n",
       "      <td>1.000000</td>\n",
       "    </tr>\n",
       "    <tr>\n",
       "      <th>max</th>\n",
       "      <td>17.000000</td>\n",
       "      <td>199.000000</td>\n",
       "      <td>122.000000</td>\n",
       "      <td>99.000000</td>\n",
       "      <td>846.000000</td>\n",
       "      <td>67.100000</td>\n",
       "      <td>2.420000</td>\n",
       "      <td>81.000000</td>\n",
       "      <td>1.000000</td>\n",
       "    </tr>\n",
       "  </tbody>\n",
       "</table>\n",
       "</div>"
      ],
      "text/plain": [
       "       Pregnancies     Glucose  BloodPressure  SkinThickness     Insulin  \\\n",
       "count   768.000000  768.000000     768.000000     768.000000  768.000000   \n",
       "mean      3.845052  120.894531      69.105469      20.536458   79.799479   \n",
       "std       3.369578   31.972618      19.355807      15.952218  115.244002   \n",
       "min       0.000000    0.000000       0.000000       0.000000    0.000000   \n",
       "25%       1.000000   99.000000      62.000000       0.000000    0.000000   \n",
       "50%       3.000000  117.000000      72.000000      23.000000   30.500000   \n",
       "75%       6.000000  140.250000      80.000000      32.000000  127.250000   \n",
       "max      17.000000  199.000000     122.000000      99.000000  846.000000   \n",
       "\n",
       "              BMI  DiabetesPedigreeFunction         Age     Outcome  \n",
       "count  768.000000                768.000000  768.000000  768.000000  \n",
       "mean    31.992578                  0.471876   33.240885    0.348958  \n",
       "std      7.884160                  0.331329   11.760232    0.476951  \n",
       "min      0.000000                  0.078000   21.000000    0.000000  \n",
       "25%     27.300000                  0.243750   24.000000    0.000000  \n",
       "50%     32.000000                  0.372500   29.000000    0.000000  \n",
       "75%     36.600000                  0.626250   41.000000    1.000000  \n",
       "max     67.100000                  2.420000   81.000000    1.000000  "
      ]
     },
     "execution_count": 4,
     "metadata": {},
     "output_type": "execute_result"
    }
   ],
   "source": [
    "da1.describe()"
   ]
  },
  {
   "cell_type": "code",
   "execution_count": 5,
   "id": "da46b0ff",
   "metadata": {},
   "outputs": [
    {
     "data": {
      "text/plain": [
       "(768, 9)"
      ]
     },
     "execution_count": 5,
     "metadata": {},
     "output_type": "execute_result"
    }
   ],
   "source": [
    "da1.shape"
   ]
  },
  {
   "cell_type": "code",
   "execution_count": 6,
   "id": "149fdfe5",
   "metadata": {},
   "outputs": [
    {
     "data": {
      "text/plain": [
       "Pregnancies                   int64\n",
       "Glucose                       int64\n",
       "BloodPressure                 int64\n",
       "SkinThickness                 int64\n",
       "Insulin                       int64\n",
       "BMI                         float64\n",
       "DiabetesPedigreeFunction    float64\n",
       "Age                           int64\n",
       "Outcome                       int64\n",
       "dtype: object"
      ]
     },
     "execution_count": 6,
     "metadata": {},
     "output_type": "execute_result"
    }
   ],
   "source": [
    "da1.dtypes"
   ]
  },
  {
   "cell_type": "code",
   "execution_count": 7,
   "id": "091e2fad",
   "metadata": {},
   "outputs": [
    {
     "data": {
      "text/plain": [
       "Pregnancies                 0\n",
       "Glucose                     0\n",
       "BloodPressure               0\n",
       "SkinThickness               0\n",
       "Insulin                     0\n",
       "BMI                         0\n",
       "DiabetesPedigreeFunction    0\n",
       "Age                         0\n",
       "Outcome                     0\n",
       "dtype: int64"
      ]
     },
     "execution_count": 7,
     "metadata": {},
     "output_type": "execute_result"
    }
   ],
   "source": [
    "da1.isna().sum()"
   ]
  },
  {
   "cell_type": "code",
   "execution_count": 8,
   "id": "c1f1a24b",
   "metadata": {},
   "outputs": [
    {
     "data": {
      "text/plain": [
       "Outcome\n",
       "0    500\n",
       "1    268\n",
       "dtype: int64"
      ]
     },
     "execution_count": 8,
     "metadata": {},
     "output_type": "execute_result"
    }
   ],
   "source": [
    "da1.groupby('Outcome').size()"
   ]
  },
  {
   "cell_type": "code",
   "execution_count": 9,
   "id": "f0a5744e",
   "metadata": {},
   "outputs": [
    {
     "data": {
      "image/png": "[encoded data removed]",
      "text/plain": [
       "<Figure size 640x480 with 9 Axes>"
      ]
     },
     "metadata": {},
     "output_type": "display_data"
    }
   ],
   "source": [
    "da1.hist(sharex = False, sharey = False, xlabelsize = 1, ylabelsize = 1)\n",
    "plt.show()"
   ]
  },
  {
   "cell_type": "code",
   "execution_count": 10,
   "id": "cc27fb34",
   "metadata": {},
   "outputs": [
    {
     "data": {
      "image/png": "[encoded data removed]",
      "text/plain": [
       "<Figure size 640x480 with 16 Axes>"
      ]
     },
     "metadata": {},
     "output_type": "display_data"
    }
   ],
   "source": [
    "da1.plot(kind = 'box', subplots = True, layout = (4, 4), sharex = False, sharey = False, fontsize = 1)\n",
    "plt.show()"
   ]
  },
  {
   "cell_type": "code",
   "execution_count": 11,
   "id": "8c948c45",
   "metadata": {},
   "outputs": [],
   "source": [
    "X = da1.drop('Outcome', axis = 1)\n",
    "y = da1['Outcome']\n",
    "\n",
    "X_train, X_test, y_train, y_test = train_test_split(X, y, test_size = 0.2, random_state = 42, shuffle = True)"
   ]
  },
  {
   "cell_type": "code",
   "execution_count": 12,
   "id": "5ecb971f",
   "metadata": {},
   "outputs": [
    {
     "name": "stdout",
     "output_type": "stream",
     "text": [
      "('LR', 0.7605235325224748, 0.036706035019966055)\n",
      "('LDA', 0.7604970914859862, 0.03625543398414691)\n",
      "('CART', 0.7196985721840296, 0.02769941831658144)\n",
      "('NB', 0.7361713379164463, 0.029767205674033976)\n",
      "('SVC', 0.7556054997355897, 0.032335355298910635)\n",
      "('KNN', 0.7199101004759387, 0.03653976176679923)\n"
     ]
    },
    {
     "name": "stderr",
     "output_type": "stream",
     "text": [
      "/Applications/anaconda3/lib/python3.11/site-packages/sklearn/linear_model/_logistic.py:458: ConvergenceWarning: lbfgs failed to converge (status=1):\n",
      "STOP: TOTAL NO. of ITERATIONS REACHED LIMIT.\n",
      "\n",
      "Increase the number of iterations (max_iter) or scale the data as shown in:\n",
      "    https://scikit-learn.org/stable/modules/preprocessing.html\n",
      "Please also refer to the documentation for alternative solver options:\n",
      "    https://scikit-learn.org/stable/modules/linear_model.html#logistic-regression\n",
      "  n_iter_i = _check_optimize_result(\n",
      "/Applications/anaconda3/lib/python3.11/site-packages/sklearn/linear_model/_logistic.py:458: ConvergenceWarning: lbfgs failed to converge (status=1):\n",
      "STOP: TOTAL NO. of ITERATIONS REACHED LIMIT.\n",
      "\n",
      "Increase the number of iterations (max_iter) or scale the data as shown in:\n",
      "    https://scikit-learn.org/stable/modules/preprocessing.html\n",
      "Please also refer to the documentation for alternative solver options:\n",
      "    https://scikit-learn.org/stable/modules/linear_model.html#logistic-regression\n",
      "  n_iter_i = _check_optimize_result(\n",
      "/Applications/anaconda3/lib/python3.11/site-packages/sklearn/linear_model/_logistic.py:458: ConvergenceWarning: lbfgs failed to converge (status=1):\n",
      "STOP: TOTAL NO. of ITERATIONS REACHED LIMIT.\n",
      "\n",
      "Increase the number of iterations (max_iter) or scale the data as shown in:\n",
      "    https://scikit-learn.org/stable/modules/preprocessing.html\n",
      "Please also refer to the documentation for alternative solver options:\n",
      "    https://scikit-learn.org/stable/modules/linear_model.html#logistic-regression\n",
      "  n_iter_i = _check_optimize_result(\n",
      "/Applications/anaconda3/lib/python3.11/site-packages/sklearn/linear_model/_logistic.py:458: ConvergenceWarning: lbfgs failed to converge (status=1):\n",
      "STOP: TOTAL NO. of ITERATIONS REACHED LIMIT.\n",
      "\n",
      "Increase the number of iterations (max_iter) or scale the data as shown in:\n",
      "    https://scikit-learn.org/stable/modules/preprocessing.html\n",
      "Please also refer to the documentation for alternative solver options:\n",
      "    https://scikit-learn.org/stable/modules/linear_model.html#logistic-regression\n",
      "  n_iter_i = _check_optimize_result(\n",
      "/Applications/anaconda3/lib/python3.11/site-packages/sklearn/linear_model/_logistic.py:458: ConvergenceWarning: lbfgs failed to converge (status=1):\n",
      "STOP: TOTAL NO. of ITERATIONS REACHED LIMIT.\n",
      "\n",
      "Increase the number of iterations (max_iter) or scale the data as shown in:\n",
      "    https://scikit-learn.org/stable/modules/preprocessing.html\n",
      "Please also refer to the documentation for alternative solver options:\n",
      "    https://scikit-learn.org/stable/modules/linear_model.html#logistic-regression\n",
      "  n_iter_i = _check_optimize_result(\n",
      "/Applications/anaconda3/lib/python3.11/site-packages/sklearn/linear_model/_logistic.py:458: ConvergenceWarning: lbfgs failed to converge (status=1):\n",
      "STOP: TOTAL NO. of ITERATIONS REACHED LIMIT.\n",
      "\n",
      "Increase the number of iterations (max_iter) or scale the data as shown in:\n",
      "    https://scikit-learn.org/stable/modules/preprocessing.html\n",
      "Please also refer to the documentation for alternative solver options:\n",
      "    https://scikit-learn.org/stable/modules/linear_model.html#logistic-regression\n",
      "  n_iter_i = _check_optimize_result(\n",
      "/Applications/anaconda3/lib/python3.11/site-packages/sklearn/linear_model/_logistic.py:458: ConvergenceWarning: lbfgs failed to converge (status=1):\n",
      "STOP: TOTAL NO. of ITERATIONS REACHED LIMIT.\n",
      "\n",
      "Increase the number of iterations (max_iter) or scale the data as shown in:\n",
      "    https://scikit-learn.org/stable/modules/preprocessing.html\n",
      "Please also refer to the documentation for alternative solver options:\n",
      "    https://scikit-learn.org/stable/modules/linear_model.html#logistic-regression\n",
      "  n_iter_i = _check_optimize_result(\n",
      "/Applications/anaconda3/lib/python3.11/site-packages/sklearn/linear_model/_logistic.py:458: ConvergenceWarning: lbfgs failed to converge (status=1):\n",
      "STOP: TOTAL NO. of ITERATIONS REACHED LIMIT.\n",
      "\n",
      "Increase the number of iterations (max_iter) or scale the data as shown in:\n",
      "    https://scikit-learn.org/stable/modules/preprocessing.html\n",
      "Please also refer to the documentation for alternative solver options:\n",
      "    https://scikit-learn.org/stable/modules/linear_model.html#logistic-regression\n",
      "  n_iter_i = _check_optimize_result(\n",
      "/Applications/anaconda3/lib/python3.11/site-packages/sklearn/linear_model/_logistic.py:458: ConvergenceWarning: lbfgs failed to converge (status=1):\n",
      "STOP: TOTAL NO. of ITERATIONS REACHED LIMIT.\n",
      "\n",
      "Increase the number of iterations (max_iter) or scale the data as shown in:\n",
      "    https://scikit-learn.org/stable/modules/preprocessing.html\n",
      "Please also refer to the documentation for alternative solver options:\n",
      "    https://scikit-learn.org/stable/modules/linear_model.html#logistic-regression\n",
      "  n_iter_i = _check_optimize_result(\n",
      "/Applications/anaconda3/lib/python3.11/site-packages/sklearn/linear_model/_logistic.py:458: ConvergenceWarning: lbfgs failed to converge (status=1):\n",
      "STOP: TOTAL NO. of ITERATIONS REACHED LIMIT.\n",
      "\n",
      "Increase the number of iterations (max_iter) or scale the data as shown in:\n",
      "    https://scikit-learn.org/stable/modules/preprocessing.html\n",
      "Please also refer to the documentation for alternative solver options:\n",
      "    https://scikit-learn.org/stable/modules/linear_model.html#logistic-regression\n",
      "  n_iter_i = _check_optimize_result(\n"
     ]
    }
   ],
   "source": [
    "mod1 = []\n",
    "mod1.append(('LR', LogisticRegression()))\n",
    "mod1.append(('LDA', LinearDiscriminantAnalysis()))\n",
    "mod1.append(('CART', DecisionTreeClassifier()))\n",
    "mod1.append(('NB', GaussianNB()))\n",
    "mod1.append(('SVC', SVC()))\n",
    "mod1.append(('KNN', KNeighborsClassifier()))\n",
    "\n",
    "result1 = []\n",
    "nms1 = []\n",
    "for name, model in mod1:\n",
    "    kf1 = KFold(n_splits = 10, random_state = 42, shuffle = True)\n",
    "    cv_r1 = cross_val_score(model, X_train, y_train, cv = kf1, scoring = 'accuracy')\n",
    "    result1.append(cv_r1)\n",
    "    nms1.append(name)\n",
    "    ms1 = (name, cv_r1.mean(), cv_r1.std())\n",
    "    print(ms1)"
   ]
  },
  {
   "cell_type": "code",
   "execution_count": 13,
   "id": "2ec49c56",
   "metadata": {},
   "outputs": [
    {
     "data": {
      "image/png": "[encoded data removed]",
      "text/plain": [
       "<Figure size 640x480 with 1 Axes>"
      ]
     },
     "metadata": {},
     "output_type": "display_data"
    }
   ],
   "source": [
    "#viz\n",
    "fig = plt.figure()\n",
    "fig.suptitle('AlgosComparison')\n",
    "ax = fig.add_subplot(111)\n",
    "plt.boxplot(result1)\n",
    "ax.set_xticklabels(nms1)\n",
    "plt.show()"
   ]
  },
  {
   "cell_type": "code",
   "execution_count": 14,
   "id": "b381c25a",
   "metadata": {},
   "outputs": [
    {
     "name": "stdout",
     "output_type": "stream",
     "text": [
      "('ScaledLR', 0.7588841882601798, 0.03738643816035462)\n",
      "('ScaledLDA', 0.7604970914859862, 0.03625543398414691)\n",
      "('ScaledCART', 0.7180592279217346, 0.036429194996818126)\n",
      "('ScaledNB', 0.7361713379164463, 0.029767205674033976)\n",
      "('ScaledKNN', 0.739476467477525, 0.05137460729581701)\n",
      "('ScaledSVM', 0.7671337916446325, 0.027903262262135253)\n"
     ]
    }
   ],
   "source": [
    "#norm\n",
    "\n",
    "pipes = []\n",
    "pipes.append(('ScaledLR', Pipeline([('Scaler', StandardScaler()), ('LR', LogisticRegression())])))\n",
    "pipes.append(('ScaledLDA', Pipeline([('Scaler', StandardScaler()), ('LDA', LinearDiscriminantAnalysis())])))\n",
    "pipes.append(('ScaledCART', Pipeline([('Scaler', StandardScaler()), ('CART', DecisionTreeClassifier())])))\n",
    "pipes.append(('ScaledNB', Pipeline([('Scaler', StandardScaler()), ('NB', GaussianNB())])))\n",
    "pipes.append(('ScaledKNN', Pipeline([('Scaler', StandardScaler()), ('KNN', KNeighborsClassifier())])))\n",
    "pipes.append(('ScaledSVM', Pipeline([('Scaler', StandardScaler()), ('SVM', SVC())])))\n",
    "\n",
    "res = []\n",
    "nms = []\n",
    "for name, model in pipes:\n",
    "    kf1 = KFold(n_splits = 10, random_state = 42, shuffle = True)\n",
    "    cv_r = cross_val_score(model, X_train, y_train, cv = kf1, scoring = 'accuracy')\n",
    "    res.append(cv_r)\n",
    "    nms.append(name)\n",
    "    ms_1 = (name, cv_r.mean(), cv_r.std())\n",
    "    print(ms_1)"
   ]
  },
  {
   "cell_type": "code",
   "execution_count": 15,
   "id": "6c4ff76e",
   "metadata": {},
   "outputs": [
    {
     "data": {
      "image/png": "[encoded data removed]",
      "text/plain": [
       "<Figure size 640x480 with 1 Axes>"
      ]
     },
     "metadata": {},
     "output_type": "display_data"
    }
   ],
   "source": [
    "#viz\n",
    "fig = plt.figure()\n",
    "fig.suptitle('AlgosComparison')\n",
    "ax = fig.add_subplot(111)\n",
    "plt.boxplot(res)\n",
    "ax.set_xticklabels(nms)\n",
    "plt.show()"
   ]
  },
  {
   "cell_type": "code",
   "execution_count": 16,
   "id": "c5341b43",
   "metadata": {},
   "outputs": [
    {
     "name": "stdout",
     "output_type": "stream",
     "text": [
      "0.765520888418826 {'C': 1.1, 'kernel': 'rbf'}\n",
      "0.7637757800105763 0.029872801715990133 {'C': 0.1, 'kernel': 'linear'}\n",
      "0.7116869381279747 0.045955129952600246 {'C': 0.1, 'kernel': 'poly'}\n",
      "0.7361448968799577 0.03977499201657454 {'C': 0.1, 'kernel': 'rbf'}\n",
      "0.7588313061872025 0.033289978986524055 {'C': 0.1, 'kernel': 'sigmoid'}\n",
      "0.7637757800105763 0.024972771598901114 {'C': 0.3, 'kernel': 'linear'}\n",
      "0.7411422527763089 0.03378622357825685 {'C': 0.3, 'kernel': 'poly'}\n",
      "0.7654680063458488 0.02943898028701734 {'C': 0.3, 'kernel': 'rbf'}\n",
      "0.7278424114225277 0.043645502197129 {'C': 0.3, 'kernel': 'sigmoid'}\n",
      "0.765388683236383 0.027068196715517624 {'C': 0.5, 'kernel': 'linear'}\n",
      "0.7378635642517186 0.02374405076679004 {'C': 0.5, 'kernel': 'poly'}\n",
      "0.7574034902168164 0.023927384961101097 {'C': 0.5, 'kernel': 'rbf'}\n",
      "0.7050502379693283 0.04790503630531807 {'C': 0.5, 'kernel': 'sigmoid'}\n",
      "0.7637757800105763 0.029872801715990133 {'C': 0.7, 'kernel': 'linear'}\n",
      "0.7395029085140137 0.023064648136809814 {'C': 0.7, 'kernel': 'poly'}\n",
      "0.7606292966684294 0.020127881917849404 {'C': 0.7, 'kernel': 'rbf'}\n",
      "0.6984928609201482 0.061124796959297324 {'C': 0.7, 'kernel': 'sigmoid'}\n",
      "0.765388683236383 0.03164541411424315 {'C': 0.9, 'kernel': 'linear'}\n",
      "0.7378900052882073 0.018282996876911997 {'C': 0.9, 'kernel': 'poly'}\n",
      "0.7638551031200423 0.02199902180862681 {'C': 0.9, 'kernel': 'rbf'}\n",
      "0.6804600740349022 0.05802976273638482 {'C': 0.9, 'kernel': 'sigmoid'}\n",
      "0.765388683236383 0.03164541411424315 {'C': 1.1, 'kernel': 'linear'}\n",
      "0.7297197250132206 0.023340352259310443 {'C': 1.1, 'kernel': 'poly'}\n",
      "0.765520888418826 0.02883159523303439 {'C': 1.1, 'kernel': 'rbf'}\n",
      "0.6756213643574829 0.0627315805717718 {'C': 1.1, 'kernel': 'sigmoid'}\n",
      "0.765388683236383 0.03164541411424315 {'C': 1.3, 'kernel': 'linear'}\n",
      "0.7329719725013221 0.02342247544449744 {'C': 1.3, 'kernel': 'poly'}\n",
      "0.7622686409307246 0.02977393380491584 {'C': 1.3, 'kernel': 'rbf'}\n",
      "0.6805393971443682 0.056641958496032103 {'C': 1.3, 'kernel': 'sigmoid'}\n",
      "0.7637493389740879 0.030023153655465845 {'C': 1.5, 'kernel': 'linear'}\n",
      "0.7362242199894236 0.0192813723611837 {'C': 1.5, 'kernel': 'poly'}\n",
      "0.7573770491803279 0.0291830954691532 {'C': 1.5, 'kernel': 'rbf'}\n",
      "0.6870967741935484 0.05671231893666728 {'C': 1.5, 'kernel': 'sigmoid'}\n",
      "0.7637493389740879 0.030023153655465845 {'C': 1.7, 'kernel': 'linear'}\n",
      "0.7395029085140138 0.02186844762365285 {'C': 1.7, 'kernel': 'poly'}\n",
      "0.760655737704918 0.03379197566103896 {'C': 1.7, 'kernel': 'rbf'}\n",
      "0.6757271285034373 0.05646386609593974 {'C': 1.7, 'kernel': 'sigmoid'}\n",
      "0.7637493389740879 0.030023153655465845 {'C': 1.9, 'kernel': 'linear'}\n",
      "0.7378106821787414 0.014716141239433479 {'C': 1.9, 'kernel': 'poly'}\n",
      "0.7574299312533052 0.037528056597015115 {'C': 1.9, 'kernel': 'rbf'}\n",
      "0.6724219989423584 0.051782655379426036 {'C': 1.9, 'kernel': 'sigmoid'}\n",
      "0.7637493389740879 0.030023153655465845 {'C': 2.1, 'kernel': 'linear'}\n",
      "0.7378106821787414 0.014716141239433479 {'C': 2.1, 'kernel': 'poly'}\n",
      "0.7590428344791116 0.037820305121683245 {'C': 2.1, 'kernel': 'rbf'}\n",
      "0.6772871496562666 0.06097743873384894 {'C': 2.1, 'kernel': 'sigmoid'}\n"
     ]
    }
   ],
   "source": [
    "#SVM\n",
    "\n",
    "scaler = StandardScaler().fit(X_train)\n",
    "resc_X = scaler.transform(X_train)\n",
    "c_vals = [0.1, 0.3, 0.5, 0.7, 0.9, 1.1, 1.3, 1.5, 1.7, 1.9, 2.1]\n",
    "kern_val = ['linear', 'poly', 'rbf', 'sigmoid']\n",
    "par_grid = dict(C = c_vals, kernel = kern_val)\n",
    "mod = SVC()\n",
    "kf1 = KFold(n_splits = 10, random_state = 42, shuffle = True)\n",
    "gr1 = GridSearchCV(estimator = mod, param_grid = par_grid, scoring = 'accuracy', cv = kf1)\n",
    "gr1_r = gr1.fit(resc_X, y_train)\n",
    "print(gr1_r.best_score_, gr1_r.best_params_)\n",
    "means = gr1_r.cv_results_['mean_test_score']\n",
    "stds = gr1_r.cv_results_['std_test_score']\n",
    "params = gr1_r.cv_results_['params']\n",
    "for mean, stdev, param in zip(means, stds, params):\n",
    "    print(mean, stdev, param)"
   ]
  },
  {
   "cell_type": "code",
   "execution_count": 17,
   "id": "683fe0c6",
   "metadata": {},
   "outputs": [
    {
     "name": "stdout",
     "output_type": "stream",
     "text": [
      "('AB', 0.7638286620835537, 0.038646593764581245)\n",
      "('GBM', 0.7753305129561079, 0.04047017227609257)\n",
      "('RF', 0.7604970914859861, 0.03479077781174431)\n",
      "('ET', 0.7703067160232681, 0.03972461934849333)\n"
     ]
    }
   ],
   "source": [
    "#Ens\n",
    "\n",
    "ens1 = []\n",
    "ens1.append(('AB', AdaBoostClassifier()))\n",
    "ens1.append(('GBM', GradientBoostingClassifier()))\n",
    "ens1.append(('RF', RandomForestClassifier()))\n",
    "ens1.append(('ET', ExtraTreesClassifier()))\n",
    "\n",
    "res_new = []\n",
    "nms_1 = []\n",
    "\n",
    "for name, model in ens1:\n",
    "    kf_1 = KFold(n_splits = 10, random_state = 42, shuffle = True)\n",
    "    cv_e = cross_val_score(model, X_train, y_train, cv = kf_1, scoring = 'accuracy')\n",
    "    res_new.append(cv_e)\n",
    "    nms_1.append(name)\n",
    "    ms_e = (name, cv_e.mean(), cv_e.std())\n",
    "    print(ms_e)"
   ]
  },
  {
   "cell_type": "code",
   "execution_count": 24,
   "id": "a63b58e9",
   "metadata": {},
   "outputs": [
    {
     "name": "stdout",
     "output_type": "stream",
     "text": [
      "{'learning_rate': 0.1, 'max_depth': 3, 'min_samples_leaf': 3, 'min_samples_split': 2, 'n_estimators': 200, 'subsample': 0.8} GradientBoostingClassifier(min_samples_leaf=3, n_estimators=200,\n",
      "                           random_state=42, subsample=0.8)\n"
     ]
    }
   ],
   "source": [
    "#Gradient\n",
    "\n",
    "param_grid = {\n",
    "    'n_estimators': [50, 100, 200],\n",
    "    'learning_rate': [0.01, 0.1, 0.2],\n",
    "    'max_depth': [3, 4, 5],\n",
    "    'min_samples_split': [2, 3, 4],\n",
    "    'min_samples_leaf': [1, 2, 3],\n",
    "    'subsample': [0.8, 0.9, 1.0]\n",
    "}\n",
    "gbm = GradientBoostingClassifier(random_state = 42)\n",
    "\n",
    "gr_n = GridSearchCV(estimator = gbm, param_grid = param_grid, cv = 10, scoring = 'accuracy', n_jobs = -1)\n",
    "\n",
    "gr_n.fit(X_train, y_train)\n",
    "best_para = gr_n.best_params_\n",
    "best_modgbm = gr_n.best_estimator_\n",
    "print(gr_n.best_params_, gr_n.best_estimator_)"
   ]
  },
  {
   "cell_type": "code",
   "execution_count": 25,
   "id": "c24dc981",
   "metadata": {},
   "outputs": [
    {
     "name": "stdout",
     "output_type": "stream",
     "text": [
      "              precision    recall  f1-score   support\n",
      "\n",
      "           0       0.80      0.75      0.77        99\n",
      "           1       0.59      0.65      0.62        55\n",
      "\n",
      "    accuracy                           0.71       154\n",
      "   macro avg       0.69      0.70      0.70       154\n",
      "weighted avg       0.72      0.71      0.72       154\n",
      "\n",
      "[[74 25]\n",
      " [19 36]]\n",
      "0.7142857142857143\n"
     ]
    }
   ],
   "source": [
    "y_prn = best_modgbm.predict(X_test)\n",
    "print(classification_report(y_test, y_prn))\n",
    "print(confusion_matrix(y_test, y_prn))\n",
    "print(accuracy_score(y_test, y_prn))"
   ]
  },
  {
   "cell_type": "code",
   "execution_count": 18,
   "id": "f10a7366",
   "metadata": {},
   "outputs": [
    {
     "data": {
      "image/png": "[encoded data removed]",
      "text/plain": [
       "<Figure size 640x480 with 1 Axes>"
      ]
     },
     "metadata": {},
     "output_type": "display_data"
    }
   ],
   "source": [
    "#viz\n",
    "fig = plt.figure()\n",
    "fig.suptitle('AlgosComparison')\n",
    "ax = fig.add_subplot(111)\n",
    "plt.boxplot(res_new)\n",
    "ax.set_xticklabels(nms_1)\n",
    "plt.show()"
   ]
  }
 ],
 "metadata": {
  "kernelspec": {
   "display_name": "Python 3 (ipykernel)",
   "language": "python",
   "name": "python3"
  },
  "language_info": {
   "codemirror_mode": {
    "name": "ipython",
    "version": 3
   },
   "file_extension": ".py",
   "mimetype": "text/x-python",
   "name": "python",
   "nbconvert_exporter": "python",
   "pygments_lexer": "ipython3",
   "version": "3.11.3"
  }
 },
 "nbformat": 4,
 "nbformat_minor": 5
}
